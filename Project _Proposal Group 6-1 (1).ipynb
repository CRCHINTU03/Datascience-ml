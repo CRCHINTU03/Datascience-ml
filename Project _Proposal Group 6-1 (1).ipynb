{
 "cells": [
  {
   "cell_type": "markdown",
   "metadata": {},
   "source": [
    "<h1 style=\"font-family:Times New Roman;\">GROUP 6 PROJECT PROPOSAL DOCUMENT</h1>\n",
    "<p >Naragam Yamini Chandu</p>\n",
    "<p >Tadikonda Chittaranjan</p>\n",
    "<p >Ganni Sri Venkata Manikanta</p>\n",
    "<p >Medisetti Sudhindhra</p>"
   ]
  },
  {
   "cell_type": "markdown",
   "metadata": {},
   "source": [
    "<h1 style=\"font-family:Times New Roman;\">1. INTRODUCTION</h1>"
   ]
  },
  {
   "cell_type": "markdown",
   "metadata": {},
   "source": [
    "<p>Coronaviruses are a family of related RNA viruses that infect both mammals and birds and cause sickness. They can cause mild to fatal respiratory tract infections in both people and birds. Some cases of the common cold in humans (which is also brought on by other viruses, primarily rhinoviruses), while more deadly types can bring about SARS, MERS, and COVID-19, which is driving the ongoing pandemic. They cause diarrhea in pigs and cows and hepatitis and encephalomyelitis in mice.</p><p>\n",
    "On January 30, 2020, and March 11, 2020, respectively, the World Health Organization (WHO) formally declared the SARS-CoV-2 outbreak a Public Health Emergency of International Concern. WHO recommended nations to use stringent social segregation and quarantine measures to protect public from the virus spread.\n",
    "</p>\n",
    "<p align=\"justify\">Here in this project we can able to see how many number of humans were effected with covid 19 virus and perform analysis to check how many males are effected, number of females</p>\n",
    "<p align=\"justify\">Finding these results we can able to predict and analyis how a pandemic effect the worlds health condition and population</p>\n"
   ]
  },
  {
   "cell_type": "markdown",
   "metadata": {},
   "source": [
    "<h1 style=\"font-family:Times New Roman;\">2. LITERATURE REVIEW</h1>"
   ]
  },
  {
   "cell_type": "markdown",
   "metadata": {},
   "source": [
    "<ol>\n",
    "    <li>COVID-19 Open-Data is a global-scale spatially granular meta-dataset for coronavirus disease from this paper we have learned that to obtain a vast quantity of metadata from various locations relating to information named epidemiological from multiple unique locations and most of the data is acquired from the respective authorizes using open-source software, the paper in aggregating data to the public which is originated from government bodies.</li><li>\n",
    "Survival of Hospitalized COVID-19 Patients in Northern Italy: A Population-Based Cohort Study by the ITA-COVID-19 Network by understanding this paper we can observe that a cohort study was conducted in 3 areas of Northern Italy which are heavily affected by covid-19 using loco-regional covid-19 surveillance which would be linked to the hospital discharge database. We can observe the survival rate of younger women is higher compared to other groups and it also shows patients with a median age of 61 who are male have died within 14 days.</li><li>\n",
    "Weather Conditions and COVID-19 Incidence in a Cold Climate: A Time-Series Study in Finland in this paper we have got to know whether climate plays any role in the covid-19 infection spreading rate. For they have collected the covid-19 daily counts for 3 months from Dec 31 to May 31 2020 across the nation around all districts and the metrological department has measured the air quality from the nearby stations. The outcome obtained from the result we have concluded that there might not be any strong evidence that climate may increase the covid-19 spread but as the data is limited and there are few expectations thus they could not come to a conclusion if the weather spreads covid-19  </li>\n",
    "    </ol>\n",
    "\n"
   ]
  },
  {
   "cell_type": "markdown",
   "metadata": {},
   "source": [
    "<h1 style=\"font-family:Times New Roman;\">3. RESEARCH QUESTIONS</h1>"
   ]
  },
  {
   "cell_type": "markdown",
   "metadata": {},
   "source": [
    "<ol>\n",
    "<li>What is the difference in the number of cumulative_hospitalized_patients & cumulative_intensive_care_patients\n",
    "for a give time frame and plot the averages of the cumulative_intensive_care_patients & cumulative_hospitalized_patients\n",
    "for a given month?</li>\n",
    "<li>Among the new_confirmed people, plot the amount of males and females exposed to covid seperately?</li>\n",
    "<li>How many new_confirmed people have been admitted as new_intensive_care_patients?</li>\n",
    "<li>Among the cumulative_ventilator_patients how many are under new_deceased on a specific date and plot the result?</li>\n",
    "</ol>"
   ]
  },
  {
   "cell_type": "markdown",
   "metadata": {},
   "source": [
    "<h1 style=\"font-family:Times New Roman;\">4. DATA</h1>"
   ]
  },
  {
   "cell_type": "markdown",
   "metadata": {},
   "source": [
    "The data used for this project is gathered from \"Google Covid-19 Open Data\", the Google Health COVID-19 Open Data Repository is one of the most comprehensive collections of up-to-date COVID-19-related information. Comprising data from more than 20,000 locations worldwide, it contains a rich variety of data types to help public health professionals, researchers, policymakers and others in understanding and managing the virus.\n",
    "The datasets provide current information on COVID-19 cases, deaths, vaccination rates, hospitalizations, and more.\n",
    "The dataset we have considered has around 30 variables with 1048576 rows.\n",
    "\n",
    "<table border=\"1\">\n",
    "    <tr>\n",
    "        <th>Name</th>\n",
    "        <th>Type</th>\n",
    "        <th>Description</th>\n",
    "        <th>Example</th>\n",
    "    </tr>\n",
    "    <tr>\n",
    "        <td>date</td>\n",
    "        <td>string</td>\n",
    "        <td>ISO 8601 date (YYYY-MM-DD) of the datapoint</td>\n",
    "        <td>2020-03-30</td>\n",
    "    </tr>\n",
    "    <tr>\n",
    "        <td>location_key</td>\n",
    "        <td>string</td>\n",
    "        <td>Unique string identifying the region</td>\n",
    "        <td>FR</td>\n",
    "    </tr>\n",
    "    <tr>\n",
    "        <td>statistic_sex_male</td>\n",
    "        <td>integer</td>\n",
    "        <td>integer\tValue of statistic for male individuals</td>\n",
    "        <td>87</td>\n",
    "    </tr>\n",
    "    <tr>\n",
    "        <td>statistic_sex_female</td>\n",
    "        <td>integer</td>\n",
    "        <td>integer\tValue of statistic for female individuals</td>\n",
    "        <td>68</td>\n",
    "    </tr>\n",
    "    <tr>\n",
    "        <td>statistic_sex_other</td>\n",
    "        <td>integer</td>\n",
    "        <td>integer\tValue of statistic for other individuals</td>\n",
    "        <td>12</td>\n",
    "    </tr>\n",
    "</table>\n",
    "<p>For the given project we are choosing 3 data sets from the Google Covid-19 Open Raw Data named as Hospitalizations, Epidemiology and By sex(Gender) where Epidemiology and Hospitalizations values are stratified with by_sex dataset based on the columns Name, Type and description to find relation between various columns and visualize, plot the values to find specific outcomes.</p>"
   ]
  },
  {
   "cell_type": "code",
   "execution_count": null,
   "metadata": {},
   "outputs": [],
   "source": []
  }
 ],
 "metadata": {
  "kernelspec": {
   "display_name": "Python 3 (ipykernel)",
   "language": "python",
   "name": "python3"
  },
  "language_info": {
   "codemirror_mode": {
    "name": "ipython",
    "version": 3
   },
   "file_extension": ".py",
   "mimetype": "text/x-python",
   "name": "python",
   "nbconvert_exporter": "python",
   "pygments_lexer": "ipython3",
   "version": "3.9.12"
  }
 },
 "nbformat": 4,
 "nbformat_minor": 4
}
